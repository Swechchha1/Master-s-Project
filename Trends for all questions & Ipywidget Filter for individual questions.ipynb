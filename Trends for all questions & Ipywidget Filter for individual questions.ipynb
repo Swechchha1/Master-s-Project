{
 "cells": [
  {
   "cell_type": "code",
   "execution_count": 2,
   "metadata": {},
   "outputs": [
    {
     "data": {
      "application/vnd.jupyter.widget-view+json": {
       "model_id": "38e105c53e7842bab03d8c643b342ead",
       "version_major": 2,
       "version_minor": 0
      },
      "text/plain": [
       "Dropdown(options=('ALL', 1, 2, 3, 4, 5, 6, 7, 8, 9, 10, 11, 12, 13, 14, 15, 16, 17, 18, 19, 20, 21, 22), value…"
      ]
     },
     "metadata": {},
     "output_type": "display_data"
    },
    {
     "data": {
      "application/vnd.jupyter.widget-view+json": {
       "model_id": "eb21586ea15d4e99aba01e3c26384127",
       "version_major": 2,
       "version_minor": 0
      },
      "text/plain": [
       "Output()"
      ]
     },
     "metadata": {},
     "output_type": "display_data"
    }
   ],
   "source": [
    "import pandas as pd\n",
    "import numpy as np\n",
    "import ipywidgets as widgets\n",
    "from IPython.display import display\n",
    "from IPython.display import clear_output\n",
    "import matplotlib.pyplot as plt\n",
    "import seaborn as  sns\n",
    "%matplotlib inline\n",
    "\n",
    "df = pd.read_excel('surveys.xlsx')\n",
    "\n",
    "df[\"week\"]= df[\"week\"].astype(str)\n",
    "df[\"week\"] = pd.Categorical(df[\"week\"], [\"5\", \"8\", \"9\", \"12\", \"15\"])\n",
    "\n",
    "ALL = 'ALL'\n",
    "\n",
    "def unique_sorted_values_plus_ALL(array):\n",
    "    unique = array.unique().tolist()\n",
    "    unique.sort()\n",
    "    unique.insert(0, ALL)\n",
    "    return unique\n",
    "\n",
    "dropdown_quest = widgets.Dropdown(options = unique_sorted_values_plus_ALL(df.question))\n",
    "output_quest = widgets.Output()\n",
    "\n",
    "def dropdown_quest_eventhandler(change):\n",
    "    output_quest.clear_output()\n",
    "\n",
    "    with output_quest:\n",
    "        if (change.new == ALL):\n",
    "            sns.set_style(style='white')\n",
    "            cus_pal=sns.color_palette(\"bright\", 22)\n",
    "            rel=sns.relplot(x='week',y='score',hue='question',kind='line',legend='full', palette=cus_pal, ci = None, height=4, aspect = 1.5, data=df)\n",
    "            plt.title('Trend of all questions over weeks', fontsize=20, color= 'b')\n",
    "            display(rel)\n",
    "            \n",
    "            \n",
    "        else:\n",
    "            new_df=df[df.question == change.new]\n",
    "            sns.set_style(style='white')\n",
    "            cus_pal=sns.color_palette(\"bright\", 1)\n",
    "            display(sns.relplot(x='week',y='score',hue='question',kind='line',legend='full', palette=cus_pal, ci = None, height=4, aspect = 1.5, data=new_df))         \n",
    "            plt.title('Trend of one question over weeks', fontsize=20, color= 'b')\n",
    "dropdown_quest.observe(dropdown_quest_eventhandler, names='value')        \n",
    "display(dropdown_quest)\n",
    "display(output_quest)"
   ]
  },
  {
   "cell_type": "code",
   "execution_count": null,
   "metadata": {},
   "outputs": [],
   "source": []
  },
  {
   "cell_type": "code",
   "execution_count": null,
   "metadata": {},
   "outputs": [],
   "source": []
  }
 ],
 "metadata": {
  "kernelspec": {
   "display_name": "Python 3",
   "language": "python",
   "name": "python3"
  },
  "language_info": {
   "codemirror_mode": {
    "name": "ipython",
    "version": 3
   },
   "file_extension": ".py",
   "mimetype": "text/x-python",
   "name": "python",
   "nbconvert_exporter": "python",
   "pygments_lexer": "ipython3",
   "version": "3.7.1"
  }
 },
 "nbformat": 4,
 "nbformat_minor": 2
}
